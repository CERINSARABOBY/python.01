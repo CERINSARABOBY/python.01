{
  "nbformat": 4,
  "nbformat_minor": 0,
  "metadata": {
    "colab": {
      "provenance": [],
      "authorship_tag": "ABX9TyOOPBEMeQp2LvDb4LbYd8oX",
      "include_colab_link": true
    },
    "kernelspec": {
      "name": "python3",
      "display_name": "Python 3"
    },
    "language_info": {
      "name": "python"
    }
  },
  "cells": [
    {
      "cell_type": "markdown",
      "metadata": {
        "id": "view-in-github",
        "colab_type": "text"
      },
      "source": [
        "<a href=\"https://colab.research.google.com/github/CERINSARABOBY/python.01/blob/main/Untitled17.ipynb\" target=\"_parent\"><img src=\"https://colab.research.google.com/assets/colab-badge.svg\" alt=\"Open In Colab\"/></a>"
      ]
    },
    {
      "cell_type": "code",
      "source": [],
      "metadata": {
        "id": "y-jZRhVEp8mF"
      },
      "execution_count": null,
      "outputs": []
    },
    {
      "cell_type": "code",
      "execution_count": 4,
      "metadata": {
        "colab": {
          "base_uri": "https://localhost:8080/"
        },
        "id": "nYjtFEHWlQRS",
        "outputId": "d070d290-7d4a-4243-df6e-1ab2991e4139"
      },
      "outputs": [
        {
          "output_type": "stream",
          "name": "stdout",
          "text": [
            " enter the mark: 50\n",
            "passed\n"
          ]
        }
      ],
      "source": [
        "mark=int(input(\" enter the mark: \"))\n",
        "percent=mark/50*100\n",
        "if percent<=20:\n",
        "  print(\"failed\")\n",
        "else:\n",
        "  print(\"passed\")"
      ]
    },
    {
      "cell_type": "code",
      "source": [
        "mark=int(input(\" marks=\"))\n",
        "a=mark\n",
        "if a>90:\n",
        "  print(\"distinction\")\n",
        "elif a>80:\n",
        "  print(\"first class\")\n",
        "elif a>60:\n",
        "  print(\"second class\") \n",
        "else: \n",
        "  print(\"failed\")"
      ],
      "metadata": {
        "colab": {
          "base_uri": "https://localhost:8080/"
        },
        "id": "JI9-1C7uoDTP",
        "outputId": "8ba89b59-1e2b-42ed-f85a-f563814adc61"
      },
      "execution_count": 7,
      "outputs": [
        {
          "output_type": "stream",
          "name": "stdout",
          "text": [
            " marks=85\n",
            "first class\n"
          ]
        }
      ]
    }
  ]
}