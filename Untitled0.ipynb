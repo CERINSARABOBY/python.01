{
  "nbformat": 4,
  "nbformat_minor": 0,
  "metadata": {
    "colab": {
      "provenance": [],
      "authorship_tag": "ABX9TyNBOXYxuUKchnoV1/z2SpK2",
      "include_colab_link": true
    },
    "kernelspec": {
      "name": "python3",
      "display_name": "Python 3"
    },
    "language_info": {
      "name": "python"
    }
  },
  "cells": [
    {
      "cell_type": "markdown",
      "metadata": {
        "id": "view-in-github",
        "colab_type": "text"
      },
      "source": [
        "<a href=\"https://colab.research.google.com/github/CERINSARABOBY/python.01/blob/main/Untitled0.ipynb\" target=\"_parent\"><img src=\"https://colab.research.google.com/assets/colab-badge.svg\" alt=\"Open In Colab\"/></a>"
      ]
    },
    {
      "cell_type": "code",
      "source": [
        "mark = int(input())"
      ],
      "metadata": {
        "colab": {
          "base_uri": "https://localhost:8080/"
        },
        "id": "0-ppfnN1hO9V",
        "outputId": "c8fa5e6e-e7cb-48a3-ed97-b926ed8dcff3"
      },
      "execution_count": 1,
      "outputs": [
        {
          "name": "stdout",
          "output_type": "stream",
          "text": [
            "145\n"
          ]
        }
      ]
    },
    {
      "cell_type": "code",
      "source": [
        "mark = int(input())\n",
        "if mark > 50: \n",
        "  print(\"pass\")\n",
        "if mark == 50:\n",
        "  print(\"just pass\")\n",
        "if mark < 50 :\n",
        "  print(\"fail\"); \n"
      ],
      "metadata": {
        "colab": {
          "base_uri": "https://localhost:8080/"
        },
        "id": "CrW2vjqTjX1v",
        "outputId": "6a5d3b62-ac62-40c6-b77a-02b15b96f422"
      },
      "execution_count": 2,
      "outputs": [
        {
          "output_type": "stream",
          "name": "stdout",
          "text": [
            "145\n",
            "pass\n"
          ]
        }
      ]
    },
    {
      "cell_type": "code",
      "source": [
        "salary =int(input())\n",
        "\n",
        "\n",
        "    "
      ],
      "metadata": {
        "colab": {
          "base_uri": "https://localhost:8080/"
        },
        "id": "uFxbVOc3o_WV",
        "outputId": "cb55ccd0-8793-4bb4-e788-db914978d7a0"
      },
      "execution_count": 3,
      "outputs": [
        {
          "name": "stdout",
          "output_type": "stream",
          "text": [
            "10000\n"
          ]
        }
      ]
    },
    {
      "cell_type": "code",
      "source": [
        "salary =int(input())\n",
        "if salary > 100000:\n",
        "    print('you are taxable')\n",
        "if salary < 100000:\n",
        "\n",
        "   print ('you are not taxable')"
      ],
      "metadata": {
        "colab": {
          "base_uri": "https://localhost:8080/"
        },
        "id": "XGYplInXroJ6",
        "outputId": "0051cb8d-fd6b-4da4-fcc8-d805b3bcdd25"
      },
      "execution_count": 4,
      "outputs": [
        {
          "output_type": "stream",
          "name": "stdout",
          "text": [
            "134576\n",
            "you are taxable\n"
          ]
        }
      ]
    },
    {
      "cell_type": "code",
      "source": [
        "salary =int(input())\n",
        "if salary > 200000 and salary <500000:\n",
        "  print('you are taxable', salary*10/100)\n",
        "if salary > 500000:\n",
        "  print ('you are  taxable',salary*20/100)\n"
      ],
      "metadata": {
        "colab": {
          "base_uri": "https://localhost:8080/"
        },
        "id": "zTR3vlCesx4i",
        "outputId": "6f455624-a5c2-4d49-f63f-545defd8fb64"
      },
      "execution_count": 5,
      "outputs": [
        {
          "output_type": "stream",
          "name": "stdout",
          "text": [
            "214367\n",
            "you are taxable 21436.7\n"
          ]
        }
      ]
    }
  ]
}