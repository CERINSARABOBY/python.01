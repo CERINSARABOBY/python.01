{
  "nbformat": 4,
  "nbformat_minor": 0,
  "metadata": {
    "colab": {
      "provenance": [],
      "authorship_tag": "ABX9TyPWhJqprHilYHZyfI4B07EM",
      "include_colab_link": true
    },
    "kernelspec": {
      "name": "python3",
      "display_name": "Python 3"
    },
    "language_info": {
      "name": "python"
    }
  },
  "cells": [
    {
      "cell_type": "markdown",
      "metadata": {
        "id": "view-in-github",
        "colab_type": "text"
      },
      "source": [
        "<a href=\"https://colab.research.google.com/github/CERINSARABOBY/python.01/blob/main/Untitled2.ipynb\" target=\"_parent\"><img src=\"https://colab.research.google.com/assets/colab-badge.svg\" alt=\"Open In Colab\"/></a>"
      ]
    },
    {
      "cell_type": "code",
      "execution_count": null,
      "metadata": {
        "colab": {
          "base_uri": "https://localhost:8080/"
        },
        "id": "lObywpFhYQS8",
        "outputId": "584d1b94-f7f3-4490-c74d-43a96027e991"
      },
      "outputs": [
        {
          "output_type": "execute_result",
          "data": {
            "text/plain": [
              "10"
            ]
          },
          "metadata": {},
          "execution_count": 1
        }
      ],
      "source": [
        "x=[10,20,30,40,50,60,70]\n",
        "type(x)\n",
        "x[0]"
      ]
    },
    {
      "cell_type": "code",
      "source": [
        "x[1]"
      ],
      "metadata": {
        "colab": {
          "base_uri": "https://localhost:8080/"
        },
        "id": "8walUBJ3aPU2",
        "outputId": "cafd70fb-886b-4028-b799-627981c27c6a"
      },
      "execution_count": null,
      "outputs": [
        {
          "output_type": "execute_result",
          "data": {
            "text/plain": [
              "20"
            ]
          },
          "metadata": {},
          "execution_count": 2
        }
      ]
    },
    {
      "cell_type": "code",
      "source": [
        "x[6]"
      ],
      "metadata": {
        "colab": {
          "base_uri": "https://localhost:8080/"
        },
        "id": "--ZuLgnmaaok",
        "outputId": "79d9d516-bdce-42cb-93fc-5aa81953a27c"
      },
      "execution_count": null,
      "outputs": [
        {
          "output_type": "execute_result",
          "data": {
            "text/plain": [
              "70"
            ]
          },
          "metadata": {},
          "execution_count": 3
        }
      ]
    },
    {
      "cell_type": "code",
      "source": [
        "x=[10,20,30,40,50,60,70]\n",
        "y=[35,46,22,96]\n",
        "print(x[0]*y[0]+x[1]*y[1]+x[2]*y[2]+x[3]*y[3])\n"
      ],
      "metadata": {
        "colab": {
          "base_uri": "https://localhost:8080/"
        },
        "id": "HtKPZnTla0Qj",
        "outputId": "daf46cf3-5f2e-42ac-e16b-007f6cafb604"
      },
      "execution_count": null,
      "outputs": [
        {
          "output_type": "stream",
          "name": "stdout",
          "text": [
            "5770\n"
          ]
        }
      ]
    },
    {
      "cell_type": "code",
      "source": [
        "x=['cerin','krishna']\n",
        "y=['liya','annlitta']\n",
        "print(x[0]+y[1],x[1]+y[0])"
      ],
      "metadata": {
        "colab": {
          "base_uri": "https://localhost:8080/"
        },
        "id": "PK6Q8oyfdG-h",
        "outputId": "c266749b-65d2-4624-9ba6-658b3a3cdbd6"
      },
      "execution_count": null,
      "outputs": [
        {
          "output_type": "stream",
          "name": "stdout",
          "text": [
            "cerinannlitta krishnaliya\n"
          ]
        }
      ]
    },
    {
      "cell_type": "code",
      "source": [
        "x=[10,20,30,40,50,60,70]\n",
        "x[-1]"
      ],
      "metadata": {
        "colab": {
          "base_uri": "https://localhost:8080/"
        },
        "id": "8g3jVQRZgRzS",
        "outputId": "1e200241-83df-498a-a1fc-56a4034ab47f"
      },
      "execution_count": null,
      "outputs": [
        {
          "output_type": "execute_result",
          "data": {
            "text/plain": [
              "70"
            ]
          },
          "metadata": {},
          "execution_count": 6
        }
      ]
    },
    {
      "cell_type": "code",
      "source": [
        "x=[10,25,26,36,39,55]\n",
        "x[-5]*x[-3]"
      ],
      "metadata": {
        "colab": {
          "base_uri": "https://localhost:8080/"
        },
        "id": "oFxedRF1g0n5",
        "outputId": "fa7c0f2f-4c93-49e7-ad0b-095b46c9a7d5"
      },
      "execution_count": null,
      "outputs": [
        {
          "output_type": "execute_result",
          "data": {
            "text/plain": [
              "900"
            ]
          },
          "metadata": {},
          "execution_count": 7
        }
      ]
    },
    {
      "cell_type": "code",
      "source": [
        "if x[3]==10:\n",
        "  print('x=10')\n",
        "else:\n",
        "  print('x is not 10')  "
      ],
      "metadata": {
        "colab": {
          "base_uri": "https://localhost:8080/"
        },
        "id": "Om4t7zSWiE0x",
        "outputId": "67eed43d-a1b9-4940-bbf0-8ba0c79af2d6"
      },
      "execution_count": null,
      "outputs": [
        {
          "output_type": "stream",
          "name": "stdout",
          "text": [
            "x is not 10\n"
          ]
        }
      ]
    },
    {
      "cell_type": "code",
      "source": [
        "if x[5]==55:\n",
        "  print('x=55')\n",
        "else:\n",
        "  print('x is not 55')"
      ],
      "metadata": {
        "colab": {
          "base_uri": "https://localhost:8080/"
        },
        "id": "YNK1x6Ogiu-F",
        "outputId": "9d5f210e-7962-44d0-8617-8e724d648c3b"
      },
      "execution_count": null,
      "outputs": [
        {
          "output_type": "stream",
          "name": "stdout",
          "text": [
            "x=55\n"
          ]
        }
      ]
    },
    {
      "cell_type": "code",
      "source": [
        "x=('CERIN SARA BOBY')\n",
        "print(x[-1])"
      ],
      "metadata": {
        "colab": {
          "base_uri": "https://localhost:8080/"
        },
        "id": "RtLgbsWxj19T",
        "outputId": "3dbad3af-1506-4a70-d6cb-8fffe4680087"
      },
      "execution_count": null,
      "outputs": [
        {
          "output_type": "stream",
          "name": "stdout",
          "text": [
            "Y\n"
          ]
        }
      ]
    },
    {
      "cell_type": "code",
      "source": [
        "x=('CERIN SARA BOBY')\n",
        "if x[0] == x[-1]:\n",
        "    print('the 1st letter and the last letter of your name is same')\n",
        "else:\n",
        "  print('the 1st letter and the last letter of your name is not same')"
      ],
      "metadata": {
        "colab": {
          "base_uri": "https://localhost:8080/"
        },
        "id": "QX7R5XEtkmgW",
        "outputId": "8a744cda-6693-44e4-852d-848718e94948"
      },
      "execution_count": null,
      "outputs": [
        {
          "output_type": "stream",
          "name": "stdout",
          "text": [
            "the 1st letter and the last letter of your name is not same\n"
          ]
        }
      ]
    },
    {
      "cell_type": "code",
      "source": [
        "x=[10,25,26,36,39,55]\n",
        "for a in x:\n",
        "  print(a)"
      ],
      "metadata": {
        "colab": {
          "base_uri": "https://localhost:8080/"
        },
        "id": "_mQEYHpVl6pn",
        "outputId": "802f2d15-eb64-40a7-fa28-a199dbe15615"
      },
      "execution_count": null,
      "outputs": [
        {
          "output_type": "stream",
          "name": "stdout",
          "text": [
            "10\n",
            "25\n",
            "26\n",
            "36\n",
            "39\n",
            "55\n"
          ]
        }
      ]
    },
    {
      "cell_type": "code",
      "source": [
        "x=('CERIN SARA BOBY')\n",
        "for c in x:\n",
        "  print(c)"
      ],
      "metadata": {
        "colab": {
          "base_uri": "https://localhost:8080/"
        },
        "id": "JE1X6T5AnBwk",
        "outputId": "c79caa5f-deff-452d-dd22-12efa8545c67"
      },
      "execution_count": null,
      "outputs": [
        {
          "output_type": "stream",
          "name": "stdout",
          "text": [
            "C\n",
            "E\n",
            "R\n",
            "I\n",
            "N\n",
            " \n",
            "S\n",
            "A\n",
            "R\n",
            "A\n",
            " \n",
            "B\n",
            "O\n",
            "B\n",
            "Y\n"
          ]
        }
      ]
    },
    {
      "cell_type": "code",
      "source": [
        "\n",
        "x=('CERIN SARA BOBY')\n",
        "for c in x:\n",
        "  if c ==\"I\":\n",
        "    print(\"yes\")\n",
        "\n",
        "\n",
        " "
      ],
      "metadata": {
        "colab": {
          "base_uri": "https://localhost:8080/"
        },
        "id": "h38pgM-NoEaT",
        "outputId": "42e3950c-3369-4711-83dd-2b117b54d8ef"
      },
      "execution_count": null,
      "outputs": [
        {
          "output_type": "stream",
          "name": "stdout",
          "text": [
            "yes\n"
          ]
        }
      ]
    },
    {
      "cell_type": "code",
      "source": [
        "x=[10,25,26,36,39,55]\n",
        "k=0\n",
        "for a in x:\n",
        "   print ('k=',k)\n",
        "   print('a=',a)\n",
        "k=k+a\n",
        "print('k+a=',k)\n",
        "\n"
      ],
      "metadata": {
        "colab": {
          "base_uri": "https://localhost:8080/"
        },
        "id": "1MrKuSt2sDao",
        "outputId": "c294c009-d59e-4038-d3d2-a16bfd15879a"
      },
      "execution_count": null,
      "outputs": [
        {
          "output_type": "stream",
          "name": "stdout",
          "text": [
            "k= 0\n",
            "a= 10\n",
            "k= 0\n",
            "a= 25\n",
            "k= 0\n",
            "a= 26\n",
            "k= 0\n",
            "a= 36\n",
            "k= 0\n",
            "a= 39\n",
            "k= 0\n",
            "a= 55\n",
            "k+a= 55\n"
          ]
        }
      ]
    }
  ]
}